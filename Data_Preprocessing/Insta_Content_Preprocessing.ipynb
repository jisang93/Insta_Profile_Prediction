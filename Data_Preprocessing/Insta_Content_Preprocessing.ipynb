{
  "nbformat": 4,
  "nbformat_minor": 0,
  "metadata": {
    "colab": {
      "name": "Insta_Content_Preprocessing",
      "provenance": [],
      "collapsed_sections": [],
      "toc_visible": true,
      "include_colab_link": true
    },
    "kernelspec": {
      "name": "python3",
      "display_name": "Python 3"
    }
  },
  "cells": [
    {
      "cell_type": "markdown",
      "metadata": {
        "id": "view-in-github",
        "colab_type": "text"
      },
      "source": [
        "<a href=\"https://colab.research.google.com/github/jisang93/Insta_Profile_Prediction/blob/master/Data_Preprocessing/Insta_Content_Preprocessing.ipynb\" target=\"_parent\"><img src=\"https://colab.research.google.com/assets/colab-badge.svg\" alt=\"Open In Colab\"/></a>"
      ]
    },
    {
      "cell_type": "code",
      "metadata": {
        "id": "peP_v76ZiA4N",
        "colab_type": "code",
        "colab": {
          "base_uri": "https://localhost:8080/",
          "height": 34
        },
        "outputId": "3a964619-02de-4e79-fc8f-074ebefa21c1"
      },
      "source": [
        "from google.colab import drive\n",
        "drive.mount('/content/drive')"
      ],
      "execution_count": 1,
      "outputs": [
        {
          "output_type": "stream",
          "text": [
            "Mounted at /content/drive\n"
          ],
          "name": "stdout"
        }
      ]
    },
    {
      "cell_type": "code",
      "metadata": {
        "id": "bBrQq6HGzsL8",
        "colab_type": "code",
        "colab": {
          "base_uri": "https://localhost:8080/",
          "height": 125
        },
        "outputId": "a7807c28-c141-46cf-df4f-6f2c4a957da6"
      },
      "source": [
        "pip install json-lines"
      ],
      "execution_count": 2,
      "outputs": [
        {
          "output_type": "stream",
          "text": [
            "Collecting json-lines\n",
            "  Downloading https://files.pythonhosted.org/packages/7f/0f/79c96c0d26b276c583484fe8209e5ebbb416a920309568650325f6e1de73/json_lines-0.5.0-py2.py3-none-any.whl\n",
            "Requirement already satisfied: six in /usr/local/lib/python3.6/dist-packages (from json-lines) (1.15.0)\n",
            "Installing collected packages: json-lines\n",
            "Successfully installed json-lines-0.5.0\n"
          ],
          "name": "stdout"
        }
      ]
    },
    {
      "cell_type": "code",
      "metadata": {
        "id": "-0qty4kHy0oB",
        "colab_type": "code",
        "colab": {}
      },
      "source": [
        "import os\n",
        "import pandas as pd\n",
        "import json_lines\n",
        "import matplotlib.pyplot as plt\n",
        "\n",
        "from tqdm import tqdm\n",
        "from itertools import combinations"
      ],
      "execution_count": 3,
      "outputs": []
    },
    {
      "cell_type": "markdown",
      "metadata": {
        "id": "8Aooiha7_Oor",
        "colab_type": "text"
      },
      "source": [
        "# **데이터 불러오기**"
      ]
    },
    {
      "cell_type": "code",
      "metadata": {
        "id": "IZkITHEY0AY1",
        "colab_type": "code",
        "colab": {
          "base_uri": "https://localhost:8080/",
          "height": 34
        },
        "outputId": "deeaa9be-0580-4a73-aa46-c2b7e77b9f3b"
      },
      "source": [
        "# 10대\n",
        "path = '/content/drive/My Drive/머신러닝/팀 프로젝트/insta_profiling1/Data_Set/Post/10대'\n",
        "files = os.listdir(path)\n",
        "\n",
        "gen10 = []\n",
        "for file in tqdm(files):\n",
        "    if 'jl' in file:\n",
        "        with open(path+'/'+file, 'rb') as f:\n",
        "            for item in json_lines.reader(f):\n",
        "                insta_content = {'insta_id':0, 'post_id':0, 'content':0, 'hashtag':0, 'location':0, 'label':0}\n",
        "                insta_content['insta_id'] = item['insta_id']\n",
        "                insta_content['post_id'] = item['post_id']\n",
        "                insta_content['content'] = item['content']\n",
        "                insta_content['hashtag'] = item['hashtag']\n",
        "                insta_content['location'] = item['location']\n",
        "                insta_content['label'] = 0 # 경로 마지막 부분을 라벨로 설정\n",
        "                gen10.append(insta_content)"
      ],
      "execution_count": 4,
      "outputs": [
        {
          "output_type": "stream",
          "text": [
            "100%|██████████| 7/7 [00:33<00:00,  4.80s/it]\n"
          ],
          "name": "stderr"
        }
      ]
    },
    {
      "cell_type": "code",
      "metadata": {
        "id": "bXsqRqw14-Is",
        "colab_type": "code",
        "colab": {
          "base_uri": "https://localhost:8080/",
          "height": 229
        },
        "outputId": "8f54bc44-7400-444e-cbb8-a14dfb0e055c"
      },
      "source": [
        "gen10_df = pd.DataFrame(gen10)\n",
        "gen10_df.head()"
      ],
      "execution_count": 5,
      "outputs": [
        {
          "output_type": "execute_result",
          "data": {
            "text/html": [
              "<div>\n",
              "<style scoped>\n",
              "    .dataframe tbody tr th:only-of-type {\n",
              "        vertical-align: middle;\n",
              "    }\n",
              "\n",
              "    .dataframe tbody tr th {\n",
              "        vertical-align: top;\n",
              "    }\n",
              "\n",
              "    .dataframe thead th {\n",
              "        text-align: right;\n",
              "    }\n",
              "</style>\n",
              "<table border=\"1\" class=\"dataframe\">\n",
              "  <thead>\n",
              "    <tr style=\"text-align: right;\">\n",
              "      <th></th>\n",
              "      <th>insta_id</th>\n",
              "      <th>post_id</th>\n",
              "      <th>content</th>\n",
              "      <th>hashtag</th>\n",
              "      <th>location</th>\n",
              "      <th>label</th>\n",
              "    </tr>\n",
              "  </thead>\n",
              "  <tbody>\n",
              "    <tr>\n",
              "      <th>0</th>\n",
              "      <td>hahajuhye</td>\n",
              "      <td>CEoDHwChqOn</td>\n",
              "      <td>.\\n.\\n.\\n.\\n마이삭\\n조용히지나가길 기원하며\\nRain rain go away</td>\n",
              "      <td></td>\n",
              "      <td>None</td>\n",
              "      <td>0</td>\n",
              "    </tr>\n",
              "    <tr>\n",
              "      <th>1</th>\n",
              "      <td>hahajuhye</td>\n",
              "      <td>CEmLj59Brlx</td>\n",
              "      <td>엄마~\\n오늘\\n재하\\n생일이지?\\n엄마~\\n오늘\\n재야\\n생일이디~?\\n엄마~\\n...</td>\n",
              "      <td>그래, 너오늘생일이다</td>\n",
              "      <td>None</td>\n",
              "      <td>0</td>\n",
              "    </tr>\n",
              "    <tr>\n",
              "      <th>2</th>\n",
              "      <td>hahajuhye</td>\n",
              "      <td>CEmKotWBtxP</td>\n",
              "      <td>띠로리</td>\n",
              "      <td></td>\n",
              "      <td>None</td>\n",
              "      <td>0</td>\n",
              "    </tr>\n",
              "    <tr>\n",
              "      <th>3</th>\n",
              "      <td>hahajuhye</td>\n",
              "      <td>CEmKcZoB8Zn</td>\n",
              "      <td>.\\n.\\n.\\n.\\n조..좋은언니...2</td>\n",
              "      <td></td>\n",
              "      <td>None</td>\n",
              "      <td>0</td>\n",
              "    </tr>\n",
              "    <tr>\n",
              "      <th>4</th>\n",
              "      <td>hahajuhye</td>\n",
              "      <td>CEmJrSlhAqO</td>\n",
              "      <td>.\\n.\\n.\\n.\\n좋은언니♡\\n#흔들리는너의눈동자\\n#걱정마엄마여기있다</td>\n",
              "      <td>흔들리는너의눈동자, 걱정마엄마여기있다</td>\n",
              "      <td>None</td>\n",
              "      <td>0</td>\n",
              "    </tr>\n",
              "  </tbody>\n",
              "</table>\n",
              "</div>"
            ],
            "text/plain": [
              "    insta_id      post_id  ... location label\n",
              "0  hahajuhye  CEoDHwChqOn  ...     None     0\n",
              "1  hahajuhye  CEmLj59Brlx  ...     None     0\n",
              "2  hahajuhye  CEmKotWBtxP  ...     None     0\n",
              "3  hahajuhye  CEmKcZoB8Zn  ...     None     0\n",
              "4  hahajuhye  CEmJrSlhAqO  ...     None     0\n",
              "\n",
              "[5 rows x 6 columns]"
            ]
          },
          "metadata": {
            "tags": []
          },
          "execution_count": 5
        }
      ]
    },
    {
      "cell_type": "code",
      "metadata": {
        "id": "m9HP0kad6Zdn",
        "colab_type": "code",
        "colab": {
          "base_uri": "https://localhost:8080/",
          "height": 34
        },
        "outputId": "e2da5a50-326d-4b49-d485-ec6956b50495"
      },
      "source": [
        "# 20대\n",
        "path = '/content/drive/My Drive/머신러닝/팀 프로젝트/insta_profiling1/Data_Set/Post/20대'\n",
        "files = os.listdir(path)\n",
        "\n",
        "gen20 = []\n",
        "for file in tqdm(files):\n",
        "    if 'jl' in file:\n",
        "        with open(path+'/'+file, 'rb') as f:\n",
        "            for item in json_lines.reader(f):\n",
        "                insta_content = {'insta_id':0, 'post_id':0, 'content':0, 'hashtag':0, 'location':0, 'label':0}\n",
        "                insta_content['insta_id'] = item['insta_id']\n",
        "                insta_content['post_id'] = item['post_id']\n",
        "                insta_content['content'] = item['content']\n",
        "                insta_content['hashtag'] = item['hashtag']\n",
        "                insta_content['location'] = item['location']\n",
        "                insta_content['label'] = 1\n",
        "                gen20.append(insta_content)"
      ],
      "execution_count": 6,
      "outputs": [
        {
          "output_type": "stream",
          "text": [
            "100%|██████████| 9/9 [00:13<00:00,  1.46s/it]\n"
          ],
          "name": "stderr"
        }
      ]
    },
    {
      "cell_type": "code",
      "metadata": {
        "id": "i87Cu0xc_Yfq",
        "colab_type": "code",
        "colab": {
          "base_uri": "https://localhost:8080/",
          "height": 246
        },
        "outputId": "f9a63855-b84a-4d22-d862-2585e136b3fd"
      },
      "source": [
        "gen20_df = pd.DataFrame(gen20)\n",
        "gen20_df.head()"
      ],
      "execution_count": 7,
      "outputs": [
        {
          "output_type": "execute_result",
          "data": {
            "text/html": [
              "<div>\n",
              "<style scoped>\n",
              "    .dataframe tbody tr th:only-of-type {\n",
              "        vertical-align: middle;\n",
              "    }\n",
              "\n",
              "    .dataframe tbody tr th {\n",
              "        vertical-align: top;\n",
              "    }\n",
              "\n",
              "    .dataframe thead th {\n",
              "        text-align: right;\n",
              "    }\n",
              "</style>\n",
              "<table border=\"1\" class=\"dataframe\">\n",
              "  <thead>\n",
              "    <tr style=\"text-align: right;\">\n",
              "      <th></th>\n",
              "      <th>insta_id</th>\n",
              "      <th>post_id</th>\n",
              "      <th>content</th>\n",
              "      <th>hashtag</th>\n",
              "      <th>location</th>\n",
              "      <th>label</th>\n",
              "    </tr>\n",
              "  </thead>\n",
              "  <tbody>\n",
              "    <tr>\n",
              "      <th>0</th>\n",
              "      <td>kwanook.park</td>\n",
              "      <td>CEVLP3Qldwq</td>\n",
              "      <td>매일아침마다\\n#자꾸얼굴인식이안된다\\n#마스크를하지않고있는데\\n#무엇이문제일까🤔</td>\n",
              "      <td>자꾸얼굴인식이안된다, 마스크를하지않고있는데, 무엇이문제일까</td>\n",
              "      <td>None</td>\n",
              "      <td>1</td>\n",
              "    </tr>\n",
              "    <tr>\n",
              "      <th>1</th>\n",
              "      <td>kwanook.park</td>\n",
              "      <td>CEStbaDlSk_</td>\n",
              "      <td>20200825\\n#오늘할일\\n#개강\\n#그렇지만\\n#유하랑놀기\\n#하하</td>\n",
              "      <td>오늘할일, 개강, 그렇지만, 유하랑놀기, 하하</td>\n",
              "      <td>None</td>\n",
              "      <td>1</td>\n",
              "    </tr>\n",
              "    <tr>\n",
              "      <th>2</th>\n",
              "      <td>kwanook.park</td>\n",
              "      <td>CEQLGPvlepd</td>\n",
              "      <td>.\\n#월요일임무\\n#아가보기👶🏻 \\n#15시까지\\n#너무잘걷네👍 \\n#만수주공\\n...</td>\n",
              "      <td>월요일임무, 아가보기, 15시까지, 너무잘걷네, 만수주공, 417동</td>\n",
              "      <td>None</td>\n",
              "      <td>1</td>\n",
              "    </tr>\n",
              "    <tr>\n",
              "      <th>3</th>\n",
              "      <td>kwanook.park</td>\n",
              "      <td>CEPwY7aF8B3</td>\n",
              "      <td>욱도사의 나눔 이벤트\\n.\\n샬롬!\\n오랜만ᄋ...</td>\n",
              "      <td>욱도사의나눔글, 일곱번째, 집에쟁여두며...</td>\n",
              "      <td>None</td>\n",
              "      <td>1</td>\n",
              "    </tr>\n",
              "    <tr>\n",
              "      <th>4</th>\n",
              "      <td>kwanook.park</td>\n",
              "      <td>CDTHbu2lYAZ</td>\n",
              "      <td>욱도사의 소소한 나눔 글. 여섯번째인가?\\...</td>\n",
              "      <td>욱도사, 나눔글, 여섯번째, 집에쟁여두면...</td>\n",
              "      <td>None</td>\n",
              "      <td>1</td>\n",
              "    </tr>\n",
              "  </tbody>\n",
              "</table>\n",
              "</div>"
            ],
            "text/plain": [
              "       insta_id      post_id  ... location label\n",
              "0  kwanook.park  CEVLP3Qldwq  ...     None     1\n",
              "1  kwanook.park  CEStbaDlSk_  ...     None     1\n",
              "2  kwanook.park  CEQLGPvlepd  ...     None     1\n",
              "3  kwanook.park  CEPwY7aF8B3  ...     None     1\n",
              "4  kwanook.park  CDTHbu2lYAZ  ...     None     1\n",
              "\n",
              "[5 rows x 6 columns]"
            ]
          },
          "metadata": {
            "tags": []
          },
          "execution_count": 7
        }
      ]
    },
    {
      "cell_type": "code",
      "metadata": {
        "id": "rDM_5skD_iOx",
        "colab_type": "code",
        "colab": {
          "base_uri": "https://localhost:8080/",
          "height": 34
        },
        "outputId": "86e95799-6638-40d8-f10d-b5b4b0665f78"
      },
      "source": [
        "# 30대\n",
        "path = '/content/drive/My Drive/머신러닝/팀 프로젝트/insta_profiling1/Data_Set/Post/30대'\n",
        "files = os.listdir(path)\n",
        "\n",
        "gen30 = []\n",
        "for file in tqdm(files):\n",
        "    if 'jl' in file:\n",
        "        with open(path+'/'+file, 'rb') as f:\n",
        "            for item in json_lines.reader(f):\n",
        "                insta_content = {'insta_id':0, 'post_id':0, 'content':0, 'hashtag':0, 'location':0, 'label':0}\n",
        "                insta_content['insta_id'] = item['insta_id']\n",
        "                insta_content['post_id'] = item['post_id']\n",
        "                insta_content['content'] = item['content']\n",
        "                insta_content['hashtag'] = item['hashtag']\n",
        "                insta_content['location'] = item['location']\n",
        "                insta_content['label'] = 2\n",
        "                gen30.append(insta_content)"
      ],
      "execution_count": 8,
      "outputs": [
        {
          "output_type": "stream",
          "text": [
            "100%|██████████| 3/3 [00:06<00:00,  2.10s/it]\n"
          ],
          "name": "stderr"
        }
      ]
    },
    {
      "cell_type": "code",
      "metadata": {
        "id": "n4pdO4Gq_iXn",
        "colab_type": "code",
        "colab": {
          "base_uri": "https://localhost:8080/",
          "height": 195
        },
        "outputId": "25967f1d-9509-4d7d-cf58-2d27cad972e4"
      },
      "source": [
        "gen30_df = pd.DataFrame(gen30)\n",
        "gen30_df.head()"
      ],
      "execution_count": 9,
      "outputs": [
        {
          "output_type": "execute_result",
          "data": {
            "text/html": [
              "<div>\n",
              "<style scoped>\n",
              "    .dataframe tbody tr th:only-of-type {\n",
              "        vertical-align: middle;\n",
              "    }\n",
              "\n",
              "    .dataframe tbody tr th {\n",
              "        vertical-align: top;\n",
              "    }\n",
              "\n",
              "    .dataframe thead th {\n",
              "        text-align: right;\n",
              "    }\n",
              "</style>\n",
              "<table border=\"1\" class=\"dataframe\">\n",
              "  <thead>\n",
              "    <tr style=\"text-align: right;\">\n",
              "      <th></th>\n",
              "      <th>insta_id</th>\n",
              "      <th>post_id</th>\n",
              "      <th>content</th>\n",
              "      <th>hashtag</th>\n",
              "      <th>location</th>\n",
              "      <th>label</th>\n",
              "    </tr>\n",
              "  </thead>\n",
              "  <tbody>\n",
              "    <tr>\n",
              "      <th>0</th>\n",
              "      <td>torrrr_dog</td>\n",
              "      <td>CEYlgCXnNV3</td>\n",
              "      <td>나두 개인싸 등극 ‼️</td>\n",
              "      <td></td>\n",
              "      <td>None</td>\n",
              "      <td>2</td>\n",
              "    </tr>\n",
              "    <tr>\n",
              "      <th>1</th>\n",
              "      <td>torrrr_dog</td>\n",
              "      <td>CEQqrGIno2F</td>\n",
              "      <td>엄마아빠 이모삼춘들이랑 밤바다 구경하고 왔어요 벌써 여름이 가려나봐요 😭😭</td>\n",
              "      <td></td>\n",
              "      <td>None</td>\n",
              "      <td>2</td>\n",
              "    </tr>\n",
              "    <tr>\n",
              "      <th>2</th>\n",
              "      <td>torrrr_dog</td>\n",
              "      <td>CCIA6NLn3lJ</td>\n",
              "      <td>아빠가 찌거줘따지 📷</td>\n",
              "      <td></td>\n",
              "      <td>None</td>\n",
              "      <td>2</td>\n",
              "    </tr>\n",
              "    <tr>\n",
              "      <th>3</th>\n",
              "      <td>torrrr_dog</td>\n",
              "      <td>CAwUUU5HV71</td>\n",
              "      <td>엄빠가 내 대리석에 게코 붙혀놨다,,😑</td>\n",
              "      <td></td>\n",
              "      <td>None</td>\n",
              "      <td>2</td>\n",
              "    </tr>\n",
              "    <tr>\n",
              "      <th>4</th>\n",
              "      <td>torrrr_dog</td>\n",
              "      <td>CATzfWpH8nJ</td>\n",
              "      <td>나 토르 견생샷 ☘️</td>\n",
              "      <td></td>\n",
              "      <td>None</td>\n",
              "      <td>2</td>\n",
              "    </tr>\n",
              "  </tbody>\n",
              "</table>\n",
              "</div>"
            ],
            "text/plain": [
              "     insta_id      post_id  ... location label\n",
              "0  torrrr_dog  CEYlgCXnNV3  ...     None     2\n",
              "1  torrrr_dog  CEQqrGIno2F  ...     None     2\n",
              "2  torrrr_dog  CCIA6NLn3lJ  ...     None     2\n",
              "3  torrrr_dog  CAwUUU5HV71  ...     None     2\n",
              "4  torrrr_dog  CATzfWpH8nJ  ...     None     2\n",
              "\n",
              "[5 rows x 6 columns]"
            ]
          },
          "metadata": {
            "tags": []
          },
          "execution_count": 9
        }
      ]
    },
    {
      "cell_type": "code",
      "metadata": {
        "id": "M4PLjHr2AGck",
        "colab_type": "code",
        "colab": {
          "base_uri": "https://localhost:8080/",
          "height": 34
        },
        "outputId": "d66dfa8b-88cc-4839-cbe9-872d34bd012d"
      },
      "source": [
        "# 40대\n",
        "path = '/content/drive/My Drive/머신러닝/팀 프로젝트/insta_profiling1/Data_Set/Post/40대'\n",
        "files = os.listdir(path)\n",
        "\n",
        "gen40 = []\n",
        "for file in tqdm(files):\n",
        "    if 'jl' in file:\n",
        "        with open(path+'/'+file, 'rb') as f:\n",
        "            for item in json_lines.reader(f):\n",
        "                insta_content = {'insta_id':0, 'post_id':0, 'content':0, 'hashtag':0, 'location':0, 'label':0}\n",
        "                insta_content['insta_id'] = item['insta_id']\n",
        "                insta_content['post_id'] = item['post_id']\n",
        "                insta_content['content'] = item['content']\n",
        "                insta_content['hashtag'] = item['hashtag']\n",
        "                insta_content['location'] = item['location']\n",
        "                insta_content['label'] = 3\n",
        "                gen40.append(insta_content)"
      ],
      "execution_count": 10,
      "outputs": [
        {
          "output_type": "stream",
          "text": [
            "100%|██████████| 2/2 [00:04<00:00,  2.36s/it]\n"
          ],
          "name": "stderr"
        }
      ]
    },
    {
      "cell_type": "code",
      "metadata": {
        "id": "V8DM7oNuAQIj",
        "colab_type": "code",
        "colab": {
          "base_uri": "https://localhost:8080/",
          "height": 279
        },
        "outputId": "63829d49-7b09-43a9-f06c-c2939652acbb"
      },
      "source": [
        "gen40_df = pd.DataFrame(gen40)\n",
        "gen40_df.head()"
      ],
      "execution_count": 11,
      "outputs": [
        {
          "output_type": "execute_result",
          "data": {
            "text/html": [
              "<div>\n",
              "<style scoped>\n",
              "    .dataframe tbody tr th:only-of-type {\n",
              "        vertical-align: middle;\n",
              "    }\n",
              "\n",
              "    .dataframe tbody tr th {\n",
              "        vertical-align: top;\n",
              "    }\n",
              "\n",
              "    .dataframe thead th {\n",
              "        text-align: right;\n",
              "    }\n",
              "</style>\n",
              "<table border=\"1\" class=\"dataframe\">\n",
              "  <thead>\n",
              "    <tr style=\"text-align: right;\">\n",
              "      <th></th>\n",
              "      <th>insta_id</th>\n",
              "      <th>post_id</th>\n",
              "      <th>content</th>\n",
              "      <th>hashtag</th>\n",
              "      <th>location</th>\n",
              "      <th>label</th>\n",
              "    </tr>\n",
              "  </thead>\n",
              "  <tbody>\n",
              "    <tr>\n",
              "      <th>0</th>\n",
              "      <td>rachel_izzy</td>\n",
              "      <td>CFKIupVFrv7</td>\n",
              "      <td>#2020_9_15  #못안 #밤라이딩🚲 \\n아침에 작천정에서 걷기 운동 하고 \\n...</td>\n",
              "      <td>2020_9_15, 못안, 밤라이딩, 절친그램, sean, jake, shule</td>\n",
              "      <td>None</td>\n",
              "      <td>3</td>\n",
              "    </tr>\n",
              "    <tr>\n",
              "      <th>1</th>\n",
              "      <td>rachel_izzy</td>\n",
              "      <td>CFGF3RolZCY</td>\n",
              "      <td>#장하다 #그래비티 #백운산 \\n#소나무릿지 실패 우벽 등반 \\n첫 멀티등반 교육 ...</td>\n",
              "      <td>장하다, 그래비티, 백운산, 소나무릿지, 릿지, 피치, 슬랩</td>\n",
              "      <td>밀양 백운산</td>\n",
              "      <td>3</td>\n",
              "    </tr>\n",
              "    <tr>\n",
              "      <th>2</th>\n",
              "      <td>rachel_izzy</td>\n",
              "      <td>CEqPaaglibK</td>\n",
              "      <td>#노안 이 왔습니다 ㅠㅠ \\n지금도 글자가 잘 안보여요 안경 끼면 잘 보이고 \\n멀...</td>\n",
              "      <td>노안</td>\n",
              "      <td>서울산두산위브</td>\n",
              "      <td>3</td>\n",
              "    </tr>\n",
              "    <tr>\n",
              "      <th>3</th>\n",
              "      <td>rachel_izzy</td>\n",
              "      <td>CEnYdRElmau</td>\n",
              "      <td>#지난일상 \\n더웠어도 너무나 재미났던 추억\\n체력만 좋아지면 한번 더 가쟝♡♡</td>\n",
              "      <td>지난일상</td>\n",
              "      <td>Ulsan, South Korea</td>\n",
              "      <td>3</td>\n",
              "    </tr>\n",
              "    <tr>\n",
              "      <th>4</th>\n",
              "      <td>rachel_izzy</td>\n",
              "      <td>CEj9YQIl8hE</td>\n",
              "      <td>많이 묵고 아프지 마라\\n내 남표♡♡ \\n내 새끼들♡♡ \\n#쏘고기🐮</td>\n",
              "      <td>쏘고기</td>\n",
              "      <td>서울산두산위브</td>\n",
              "      <td>3</td>\n",
              "    </tr>\n",
              "  </tbody>\n",
              "</table>\n",
              "</div>"
            ],
            "text/plain": [
              "      insta_id      post_id  ...            location label\n",
              "0  rachel_izzy  CFKIupVFrv7  ...                None     3\n",
              "1  rachel_izzy  CFGF3RolZCY  ...              밀양 백운산     3\n",
              "2  rachel_izzy  CEqPaaglibK  ...             서울산두산위브     3\n",
              "3  rachel_izzy  CEnYdRElmau  ...  Ulsan, South Korea     3\n",
              "4  rachel_izzy  CEj9YQIl8hE  ...             서울산두산위브     3\n",
              "\n",
              "[5 rows x 6 columns]"
            ]
          },
          "metadata": {
            "tags": []
          },
          "execution_count": 11
        }
      ]
    },
    {
      "cell_type": "code",
      "metadata": {
        "id": "Wj-2LyMkASUn",
        "colab_type": "code",
        "colab": {
          "base_uri": "https://localhost:8080/",
          "height": 34
        },
        "outputId": "19d8aeb3-6c67-4c7d-d75d-d7a302606ca4"
      },
      "source": [
        "# 50대\n",
        "path = '/content/drive/My Drive/머신러닝/팀 프로젝트/insta_profiling1/Data_Set/Post/50대'\n",
        "files = os.listdir(path)\n",
        "\n",
        "gen50 = []\n",
        "for file in tqdm(files):\n",
        "    if 'jl' in file:\n",
        "        with open(path+'/'+file, 'rb') as f:\n",
        "            for item in json_lines.reader(f):\n",
        "                insta_content = {'insta_id':0, 'post_id':0, 'content':0, 'hashtag':0, 'location':0, 'label':0}\n",
        "                insta_content['insta_id'] = item['insta_id']\n",
        "                insta_content['post_id'] = item['post_id']\n",
        "                insta_content['content'] = item['content']\n",
        "                insta_content['hashtag'] = item['hashtag']\n",
        "                insta_content['location'] = item['location']\n",
        "                insta_content['label'] = 3\n",
        "                gen50.append(insta_content)"
      ],
      "execution_count": 12,
      "outputs": [
        {
          "output_type": "stream",
          "text": [
            "100%|██████████| 4/4 [00:05<00:00,  1.40s/it]\n"
          ],
          "name": "stderr"
        }
      ]
    },
    {
      "cell_type": "code",
      "metadata": {
        "id": "W8gG2OYYAc1U",
        "colab_type": "code",
        "colab": {
          "base_uri": "https://localhost:8080/",
          "height": 246
        },
        "outputId": "f07eaa3f-0da9-4803-97bf-8a2457261cc2"
      },
      "source": [
        "gen50_df = pd.DataFrame(gen50)\n",
        "gen50_df.head()"
      ],
      "execution_count": 13,
      "outputs": [
        {
          "output_type": "execute_result",
          "data": {
            "text/html": [
              "<div>\n",
              "<style scoped>\n",
              "    .dataframe tbody tr th:only-of-type {\n",
              "        vertical-align: middle;\n",
              "    }\n",
              "\n",
              "    .dataframe tbody tr th {\n",
              "        vertical-align: top;\n",
              "    }\n",
              "\n",
              "    .dataframe thead th {\n",
              "        text-align: right;\n",
              "    }\n",
              "</style>\n",
              "<table border=\"1\" class=\"dataframe\">\n",
              "  <thead>\n",
              "    <tr style=\"text-align: right;\">\n",
              "      <th></th>\n",
              "      <th>insta_id</th>\n",
              "      <th>post_id</th>\n",
              "      <th>content</th>\n",
              "      <th>hashtag</th>\n",
              "      <th>location</th>\n",
              "      <th>label</th>\n",
              "    </tr>\n",
              "  </thead>\n",
              "  <tbody>\n",
              "    <tr>\n",
              "      <th>0</th>\n",
              "      <td>dalcom71</td>\n",
              "      <td>CE3EngJDLIP</td>\n",
              "      <td>#아침일찍부터 #비즈니스미팅 #통으로빌림...</td>\n",
              "      <td>아침일찍부터, 비즈니스미팅, 통으로빌림,...</td>\n",
              "      <td>보정동 까페거리</td>\n",
              "      <td>3</td>\n",
              "    </tr>\n",
              "    <tr>\n",
              "      <th>1</th>\n",
              "      <td>dalcom71</td>\n",
              "      <td>CE07h9wjbsu</td>\n",
              "      <td>#teamship #workshop #successformula \\n.\\n.\\n우리...</td>\n",
              "      <td>teamship, workshop, successformula</td>\n",
              "      <td>네이쳐팬션</td>\n",
              "      <td>3</td>\n",
              "    </tr>\n",
              "    <tr>\n",
              "      <th>2</th>\n",
              "      <td>dalcom71</td>\n",
              "      <td>CEzF7OoDb5v</td>\n",
              "      <td>#저녁노을 #보랏빛하늘 #막내가보내준사진 \\n.\\n.\\n오늘 저녁 창밖으로 본 넘 ...</td>\n",
              "      <td>저녁노을, 보랏빛하늘, 막내가보내준사진, 저녁놀, 자연의신비함, 하늘샷, 예뻐라, ...</td>\n",
              "      <td>분당</td>\n",
              "      <td>3</td>\n",
              "    </tr>\n",
              "    <tr>\n",
              "      <th>3</th>\n",
              "      <td>dalcom71</td>\n",
              "      <td>CErev-Ujyp_</td>\n",
              "      <td>#워터코인 #수경재배로 #다시도전💪 \\n.\\n.\\n왜 자꾸 떠나갈까~ㅜㅜ\\n난 초록...</td>\n",
              "      <td>워터코인, 수경재배로, 다시도전, 예쁘게오래살자, 초록이사랑, 워터코인수경재배, 사...</td>\n",
              "      <td>분당</td>\n",
              "      <td>3</td>\n",
              "    </tr>\n",
              "    <tr>\n",
              "      <th>4</th>\n",
              "      <td>dalcom71</td>\n",
              "      <td>CEkzahnDRSY</td>\n",
              "      <td>#hello #september #welcome \\n.\\n.\\n내가 좋아ᄒ...</td>\n",
              "      <td>hello, september, welcome, 2020년9월, 나만ᄋ...</td>\n",
              "      <td>None</td>\n",
              "      <td>3</td>\n",
              "    </tr>\n",
              "  </tbody>\n",
              "</table>\n",
              "</div>"
            ],
            "text/plain": [
              "   insta_id      post_id  ...  location label\n",
              "0  dalcom71  CE3EngJDLIP  ...  보정동 까페거리     3\n",
              "1  dalcom71  CE07h9wjbsu  ...     네이쳐팬션     3\n",
              "2  dalcom71  CEzF7OoDb5v  ...        분당     3\n",
              "3  dalcom71  CErev-Ujyp_  ...        분당     3\n",
              "4  dalcom71  CEkzahnDRSY  ...      None     3\n",
              "\n",
              "[5 rows x 6 columns]"
            ]
          },
          "metadata": {
            "tags": []
          },
          "execution_count": 13
        }
      ]
    },
    {
      "cell_type": "code",
      "metadata": {
        "id": "btoPtpfUvPOC",
        "colab_type": "code",
        "colab": {
          "base_uri": "https://localhost:8080/",
          "height": 34
        },
        "outputId": "f584ed5c-4252-4aac-b55b-092f16f1deba"
      },
      "source": [
        "# 남자\n",
        "path = '/content/drive/My Drive/머신러닝/팀 프로젝트/insta_profiling1/Data_Set/Post/남자'\n",
        "files = os.listdir(path)\n",
        "\n",
        "male = []\n",
        "for file in tqdm(files):\n",
        "    if 'jl' in file:\n",
        "        with open(path+'/'+file, 'rb') as f:\n",
        "            for item in json_lines.reader(f):\n",
        "                insta_content = {'insta_id':0, 'post_id':0, 'content':0, 'hashtag':0, 'location':0, 'label':0}\n",
        "                insta_content['insta_id'] = item['insta_id']\n",
        "                insta_content['post_id'] = item['post_id']\n",
        "                insta_content['content'] = item['content']\n",
        "                insta_content['hashtag'] = item['hashtag']\n",
        "                insta_content['location'] = item['location']\n",
        "                insta_content['label'] = 0\n",
        "                male.append(insta_content)"
      ],
      "execution_count": 18,
      "outputs": [
        {
          "output_type": "stream",
          "text": [
            "100%|██████████| 5/5 [00:03<00:00,  1.62it/s]\n"
          ],
          "name": "stderr"
        }
      ]
    },
    {
      "cell_type": "code",
      "metadata": {
        "id": "_upW1YvdvUm7",
        "colab_type": "code",
        "colab": {
          "base_uri": "https://localhost:8080/",
          "height": 246
        },
        "outputId": "af3f10b0-5834-4fe9-beb1-fb0fd88ef21e"
      },
      "source": [
        "male_df = pd.DataFrame(male)\n",
        "male_df.head()"
      ],
      "execution_count": 19,
      "outputs": [
        {
          "output_type": "execute_result",
          "data": {
            "text/html": [
              "<div>\n",
              "<style scoped>\n",
              "    .dataframe tbody tr th:only-of-type {\n",
              "        vertical-align: middle;\n",
              "    }\n",
              "\n",
              "    .dataframe tbody tr th {\n",
              "        vertical-align: top;\n",
              "    }\n",
              "\n",
              "    .dataframe thead th {\n",
              "        text-align: right;\n",
              "    }\n",
              "</style>\n",
              "<table border=\"1\" class=\"dataframe\">\n",
              "  <thead>\n",
              "    <tr style=\"text-align: right;\">\n",
              "      <th></th>\n",
              "      <th>insta_id</th>\n",
              "      <th>post_id</th>\n",
              "      <th>content</th>\n",
              "      <th>hashtag</th>\n",
              "      <th>location</th>\n",
              "      <th>label</th>\n",
              "    </tr>\n",
              "  </thead>\n",
              "  <tbody>\n",
              "    <tr>\n",
              "      <th>0</th>\n",
              "      <td>seo_preme</td>\n",
              "      <td>CCLbdJ5D5TZ</td>\n",
              "      <td>김밥집🍙🍲</td>\n",
              "      <td></td>\n",
              "      <td>청담동마녀김밥대봉점</td>\n",
              "      <td>0</td>\n",
              "    </tr>\n",
              "    <tr>\n",
              "      <th>1</th>\n",
              "      <td>seo_preme</td>\n",
              "      <td>CCE_MXkjssm</td>\n",
              "      <td>이모 잘 입을게🙌\\n@d_nuum</td>\n",
              "      <td></td>\n",
              "      <td>None</td>\n",
              "      <td>0</td>\n",
              "    </tr>\n",
              "    <tr>\n",
              "      <th>2</th>\n",
              "      <td>seo_preme</td>\n",
              "      <td>CBuaodoDh_N</td>\n",
              "      <td>짧은머리 3일차\\n아직도 어색\\n#부적응 #더움 #목은시원하네</td>\n",
              "      <td>부적응, 더움, 목은시원하네</td>\n",
              "      <td>None</td>\n",
              "      <td>0</td>\n",
              "    </tr>\n",
              "    <tr>\n",
              "      <th>3</th>\n",
              "      <td>seo_preme</td>\n",
              "      <td>CBqLu6rDkOv</td>\n",
              "      <td>생에 처음이자 마지막이 될 수도 있는\\n장발 생활을 정리함\\n#2년 #장발 #안녕</td>\n",
              "      <td>2년, 장발, 안녕</td>\n",
              "      <td>None</td>\n",
              "      <td>0</td>\n",
              "    </tr>\n",
              "    <tr>\n",
              "      <th>4</th>\n",
              "      <td>seo_preme</td>\n",
              "      <td>CBHjkhnjwzc</td>\n",
              "      <td>알타리 귀여움</td>\n",
              "      <td></td>\n",
              "      <td>None</td>\n",
              "      <td>0</td>\n",
              "    </tr>\n",
              "  </tbody>\n",
              "</table>\n",
              "</div>"
            ],
            "text/plain": [
              "    insta_id      post_id  ...    location label\n",
              "0  seo_preme  CCLbdJ5D5TZ  ...  청담동마녀김밥대봉점     0\n",
              "1  seo_preme  CCE_MXkjssm  ...        None     0\n",
              "2  seo_preme  CBuaodoDh_N  ...        None     0\n",
              "3  seo_preme  CBqLu6rDkOv  ...        None     0\n",
              "4  seo_preme  CBHjkhnjwzc  ...        None     0\n",
              "\n",
              "[5 rows x 6 columns]"
            ]
          },
          "metadata": {
            "tags": []
          },
          "execution_count": 19
        }
      ]
    },
    {
      "cell_type": "code",
      "metadata": {
        "id": "uDYA_vo9vVH6",
        "colab_type": "code",
        "colab": {
          "base_uri": "https://localhost:8080/",
          "height": 34
        },
        "outputId": "612c0852-3681-4fc2-c887-be5cfd06dfa0"
      },
      "source": [
        "# 여자\n",
        "path = '/content/drive/My Drive/머신러닝/팀 프로젝트/insta_profiling1/Data_Set/Post/여자'\n",
        "files = os.listdir(path)\n",
        "\n",
        "female = []\n",
        "for file in tqdm(files):\n",
        "    if 'jl' in file:\n",
        "        with open(path+'/'+file, 'rb') as f:\n",
        "            for item in json_lines.reader(f):\n",
        "                insta_content = {'insta_id':0, 'post_id':0, 'content':0, 'hashtag':0, 'location':0, 'label':0}\n",
        "                insta_content['insta_id'] = item['insta_id']\n",
        "                insta_content['post_id'] = item['post_id']\n",
        "                insta_content['content'] = item['content']\n",
        "                insta_content['hashtag'] = item['hashtag']\n",
        "                insta_content['location'] = item['location']\n",
        "                insta_content['label'] = 1\n",
        "                female.append(insta_content)"
      ],
      "execution_count": 20,
      "outputs": [
        {
          "output_type": "stream",
          "text": [
            "100%|██████████| 3/3 [00:04<00:00,  1.66s/it]\n"
          ],
          "name": "stderr"
        }
      ]
    },
    {
      "cell_type": "code",
      "metadata": {
        "id": "LQ8Lt4QmvVaE",
        "colab_type": "code",
        "colab": {
          "base_uri": "https://localhost:8080/",
          "height": 346
        },
        "outputId": "a52662b4-fe17-4647-cca9-94282b09b270"
      },
      "source": [
        "female_df = pd.DataFrame(female)\n",
        "female_df.head()"
      ],
      "execution_count": 21,
      "outputs": [
        {
          "output_type": "execute_result",
          "data": {
            "text/html": [
              "<div>\n",
              "<style scoped>\n",
              "    .dataframe tbody tr th:only-of-type {\n",
              "        vertical-align: middle;\n",
              "    }\n",
              "\n",
              "    .dataframe tbody tr th {\n",
              "        vertical-align: top;\n",
              "    }\n",
              "\n",
              "    .dataframe thead th {\n",
              "        text-align: right;\n",
              "    }\n",
              "</style>\n",
              "<table border=\"1\" class=\"dataframe\">\n",
              "  <thead>\n",
              "    <tr style=\"text-align: right;\">\n",
              "      <th></th>\n",
              "      <th>insta_id</th>\n",
              "      <th>post_id</th>\n",
              "      <th>content</th>\n",
              "      <th>hashtag</th>\n",
              "      <th>location</th>\n",
              "      <th>label</th>\n",
              "    </tr>\n",
              "  </thead>\n",
              "  <tbody>\n",
              "    <tr>\n",
              "      <th>0</th>\n",
              "      <td>floral_jh</td>\n",
              "      <td>CAsMnWEloXr</td>\n",
              "      <td>트로피컬\\n\\n#숙대#숙명여대#화예디자인#디자인#대학원#아트#예술#꽃#플로리스트#열...</td>\n",
              "      <td>숙대, 숙명여대, 화예디자인, 디자인, 대학원, 아트, 예술, 꽃, 플로리스트, 열...</td>\n",
              "      <td>숙명여자대학교 Sookmyung Women's University</td>\n",
              "      <td>1</td>\n",
              "    </tr>\n",
              "    <tr>\n",
              "      <th>1</th>\n",
              "      <td>floral_jh</td>\n",
              "      <td>B8vaoQjlNpH</td>\n",
              "      <td>프리저브드플라워🌸\\n.\\n.\\n#프리저브드플라워#플라워#상품#플로리스트#데일리#꽃#...</td>\n",
              "      <td>프리저브드플라워, 플라워, 상품, 플로리스트, 데일리, 꽃, 꽃스타그램, 선팔하면맞...</td>\n",
              "      <td>None</td>\n",
              "      <td>1</td>\n",
              "    </tr>\n",
              "    <tr>\n",
              "      <th>2</th>\n",
              "      <td>floral_jh</td>\n",
              "      <td>B7Sc2XyFG_0</td>\n",
              "      <td>도자기 화병\\n.\\n.\\n.\\n#꽃#플라워#도자기#화병#플로리스트#플라워아트#숙대#...</td>\n",
              "      <td>꽃, 플라워, 도자기, 화병, 플로리스트, 플라워아트, 숙대, 대학원, 꽃스타그램,...</td>\n",
              "      <td>숙명여자대학교 Sookmyung Women's University</td>\n",
              "      <td>1</td>\n",
              "    </tr>\n",
              "    <tr>\n",
              "      <th>3</th>\n",
              "      <td>floral_jh</td>\n",
              "      <td>B7H7upMF0rS</td>\n",
              "      <td>#꽃#꽃작품#플로리스트#디자인#전시#고양꽃축제#고양축제꽃박람회#고양시#고양가을꽃축제...</td>\n",
              "      <td>꽃, 꽃작품, 플로리스트, 디자인, 전시, 고양꽃축제, 고양축제꽃박람회, 고양시, ...</td>\n",
              "      <td>숙명여자대학교 Sookmyung Women's University</td>\n",
              "      <td>1</td>\n",
              "    </tr>\n",
              "    <tr>\n",
              "      <th>4</th>\n",
              "      <td>floral_jh</td>\n",
              "      <td>B60JfNJFE1A</td>\n",
              "      <td>리니어디자인\\n.\\n.\\n.\\n#꽃#꽃꽂이#리니어#디자인#화병#미#나단플라워#플라워...</td>\n",
              "      <td>꽃, 꽃꽂이, 리니어, 디자인, 화병, 미, 나단플라워, 플라워, 플로리스트, 선,...</td>\n",
              "      <td>숙명여자대학교 Sookmyung Women's University</td>\n",
              "      <td>1</td>\n",
              "    </tr>\n",
              "  </tbody>\n",
              "</table>\n",
              "</div>"
            ],
            "text/plain": [
              "    insta_id      post_id  ...                              location label\n",
              "0  floral_jh  CAsMnWEloXr  ...  숙명여자대학교 Sookmyung Women's University     1\n",
              "1  floral_jh  B8vaoQjlNpH  ...                                  None     1\n",
              "2  floral_jh  B7Sc2XyFG_0  ...  숙명여자대학교 Sookmyung Women's University     1\n",
              "3  floral_jh  B7H7upMF0rS  ...  숙명여자대학교 Sookmyung Women's University     1\n",
              "4  floral_jh  B60JfNJFE1A  ...  숙명여자대학교 Sookmyung Women's University     1\n",
              "\n",
              "[5 rows x 6 columns]"
            ]
          },
          "metadata": {
            "tags": []
          },
          "execution_count": 21
        }
      ]
    },
    {
      "cell_type": "markdown",
      "metadata": {
        "id": "r2o5-hthBSI3",
        "colab_type": "text"
      },
      "source": [
        "# **데이터 전처리**"
      ]
    },
    {
      "cell_type": "markdown",
      "metadata": {
        "id": "6S_KLgyvwkM8",
        "colab_type": "text"
      },
      "source": [
        "## **나이별 데이터 전처리**"
      ]
    },
    {
      "cell_type": "code",
      "metadata": {
        "id": "oerDOMz3v95k",
        "colab_type": "code",
        "colab": {
          "base_uri": "https://localhost:8080/",
          "height": 34
        },
        "outputId": "7a417114-d28c-44c4-9fce-c5c8ef1993bf"
      },
      "source": [
        "# 나이 기준 데이터셋\n",
        "total_age = pd.concat([gen10_df, gen20_df, gen30_df, gen40_df, gen50_df])\n",
        "len(total_age)"
      ],
      "execution_count": 27,
      "outputs": [
        {
          "output_type": "execute_result",
          "data": {
            "text/plain": [
              "1421927"
            ]
          },
          "metadata": {
            "tags": []
          },
          "execution_count": 27
        }
      ]
    },
    {
      "cell_type": "code",
      "metadata": {
        "id": "tiNK1fzjAyN1",
        "colab_type": "code",
        "colab": {
          "base_uri": "https://localhost:8080/",
          "height": 34
        },
        "outputId": "767d23f2-cc35-4f83-8b9e-383d6710b8f8"
      },
      "source": [
        "# 중복 포스트 아이디 제거(포스트 아이디는 고유 키라는 가정)\n",
        "total_age = total_age.drop_duplicates(['post_id'])\n",
        "total_age = total_age.reset_index()\n",
        "total_age = total_age.drop(['index'], axis=1)\n",
        "len(total_age)"
      ],
      "execution_count": 28,
      "outputs": [
        {
          "output_type": "execute_result",
          "data": {
            "text/plain": [
              "1372668"
            ]
          },
          "metadata": {
            "tags": []
          },
          "execution_count": 28
        }
      ]
    },
    {
      "cell_type": "code",
      "metadata": {
        "id": "ZXPALwEbG7Mt",
        "colab_type": "code",
        "colab": {
          "base_uri": "https://localhost:8080/",
          "height": 229
        },
        "outputId": "97f2faa6-9cf1-49f3-d1e6-2043f73ae146"
      },
      "source": [
        "total_age = total_age.fillna(\"\")\n",
        "total_age.head()"
      ],
      "execution_count": 29,
      "outputs": [
        {
          "output_type": "execute_result",
          "data": {
            "text/html": [
              "<div>\n",
              "<style scoped>\n",
              "    .dataframe tbody tr th:only-of-type {\n",
              "        vertical-align: middle;\n",
              "    }\n",
              "\n",
              "    .dataframe tbody tr th {\n",
              "        vertical-align: top;\n",
              "    }\n",
              "\n",
              "    .dataframe thead th {\n",
              "        text-align: right;\n",
              "    }\n",
              "</style>\n",
              "<table border=\"1\" class=\"dataframe\">\n",
              "  <thead>\n",
              "    <tr style=\"text-align: right;\">\n",
              "      <th></th>\n",
              "      <th>insta_id</th>\n",
              "      <th>post_id</th>\n",
              "      <th>content</th>\n",
              "      <th>hashtag</th>\n",
              "      <th>location</th>\n",
              "      <th>label</th>\n",
              "    </tr>\n",
              "  </thead>\n",
              "  <tbody>\n",
              "    <tr>\n",
              "      <th>0</th>\n",
              "      <td>hahajuhye</td>\n",
              "      <td>CEoDHwChqOn</td>\n",
              "      <td>.\\n.\\n.\\n.\\n마이삭\\n조용히지나가길 기원하며\\nRain rain go away</td>\n",
              "      <td></td>\n",
              "      <td></td>\n",
              "      <td>0</td>\n",
              "    </tr>\n",
              "    <tr>\n",
              "      <th>1</th>\n",
              "      <td>hahajuhye</td>\n",
              "      <td>CEmLj59Brlx</td>\n",
              "      <td>엄마~\\n오늘\\n재하\\n생일이지?\\n엄마~\\n오늘\\n재야\\n생일이디~?\\n엄마~\\n...</td>\n",
              "      <td>그래, 너오늘생일이다</td>\n",
              "      <td></td>\n",
              "      <td>0</td>\n",
              "    </tr>\n",
              "    <tr>\n",
              "      <th>2</th>\n",
              "      <td>hahajuhye</td>\n",
              "      <td>CEmKotWBtxP</td>\n",
              "      <td>띠로리</td>\n",
              "      <td></td>\n",
              "      <td></td>\n",
              "      <td>0</td>\n",
              "    </tr>\n",
              "    <tr>\n",
              "      <th>3</th>\n",
              "      <td>hahajuhye</td>\n",
              "      <td>CEmKcZoB8Zn</td>\n",
              "      <td>.\\n.\\n.\\n.\\n조..좋은언니...2</td>\n",
              "      <td></td>\n",
              "      <td></td>\n",
              "      <td>0</td>\n",
              "    </tr>\n",
              "    <tr>\n",
              "      <th>4</th>\n",
              "      <td>hahajuhye</td>\n",
              "      <td>CEmJrSlhAqO</td>\n",
              "      <td>.\\n.\\n.\\n.\\n좋은언니♡\\n#흔들리는너의눈동자\\n#걱정마엄마여기있다</td>\n",
              "      <td>흔들리는너의눈동자, 걱정마엄마여기있다</td>\n",
              "      <td></td>\n",
              "      <td>0</td>\n",
              "    </tr>\n",
              "  </tbody>\n",
              "</table>\n",
              "</div>"
            ],
            "text/plain": [
              "    insta_id      post_id  ... location label\n",
              "0  hahajuhye  CEoDHwChqOn  ...              0\n",
              "1  hahajuhye  CEmLj59Brlx  ...              0\n",
              "2  hahajuhye  CEmKotWBtxP  ...              0\n",
              "3  hahajuhye  CEmKcZoB8Zn  ...              0\n",
              "4  hahajuhye  CEmJrSlhAqO  ...              0\n",
              "\n",
              "[5 rows x 6 columns]"
            ]
          },
          "metadata": {
            "tags": []
          },
          "execution_count": 29
        }
      ]
    },
    {
      "cell_type": "code",
      "metadata": {
        "id": "PI3AyTOaBYvY",
        "colab_type": "code",
        "colab": {
          "base_uri": "https://localhost:8080/",
          "height": 229
        },
        "outputId": "e182733f-2d3d-4bcc-d3f7-255d922dbf43"
      },
      "source": [
        "total_age['content'] = total_age.content.apply(lambda x: x.replace('.\\n', '').replace('\\\\t', '').replace('\\n', ' '))\n",
        "total_age['content'] = total_age.loc[total_age['content'].apply(lambda x:len(x)) >= 5, \"content\"]\n",
        "total_age.head()"
      ],
      "execution_count": 30,
      "outputs": [
        {
          "output_type": "execute_result",
          "data": {
            "text/html": [
              "<div>\n",
              "<style scoped>\n",
              "    .dataframe tbody tr th:only-of-type {\n",
              "        vertical-align: middle;\n",
              "    }\n",
              "\n",
              "    .dataframe tbody tr th {\n",
              "        vertical-align: top;\n",
              "    }\n",
              "\n",
              "    .dataframe thead th {\n",
              "        text-align: right;\n",
              "    }\n",
              "</style>\n",
              "<table border=\"1\" class=\"dataframe\">\n",
              "  <thead>\n",
              "    <tr style=\"text-align: right;\">\n",
              "      <th></th>\n",
              "      <th>insta_id</th>\n",
              "      <th>post_id</th>\n",
              "      <th>content</th>\n",
              "      <th>hashtag</th>\n",
              "      <th>location</th>\n",
              "      <th>label</th>\n",
              "    </tr>\n",
              "  </thead>\n",
              "  <tbody>\n",
              "    <tr>\n",
              "      <th>0</th>\n",
              "      <td>hahajuhye</td>\n",
              "      <td>CEoDHwChqOn</td>\n",
              "      <td>마이삭 조용히지나가길 기원하며 Rain rain go away</td>\n",
              "      <td></td>\n",
              "      <td></td>\n",
              "      <td>0</td>\n",
              "    </tr>\n",
              "    <tr>\n",
              "      <th>1</th>\n",
              "      <td>hahajuhye</td>\n",
              "      <td>CEmLj59Brlx</td>\n",
              "      <td>엄마~ 오늘 재하 생일이지? 엄마~ 오늘 재야 생일이디~? 엄마~ 엄ㅁㅏ~  #그래...</td>\n",
              "      <td>그래, 너오늘생일이다</td>\n",
              "      <td></td>\n",
              "      <td>0</td>\n",
              "    </tr>\n",
              "    <tr>\n",
              "      <th>2</th>\n",
              "      <td>hahajuhye</td>\n",
              "      <td>CEmKotWBtxP</td>\n",
              "      <td>NaN</td>\n",
              "      <td></td>\n",
              "      <td></td>\n",
              "      <td>0</td>\n",
              "    </tr>\n",
              "    <tr>\n",
              "      <th>3</th>\n",
              "      <td>hahajuhye</td>\n",
              "      <td>CEmKcZoB8Zn</td>\n",
              "      <td>조..좋은언니...2</td>\n",
              "      <td></td>\n",
              "      <td></td>\n",
              "      <td>0</td>\n",
              "    </tr>\n",
              "    <tr>\n",
              "      <th>4</th>\n",
              "      <td>hahajuhye</td>\n",
              "      <td>CEmJrSlhAqO</td>\n",
              "      <td>좋은언니♡ #흔들리는너의눈동자 #걱정마엄마여기있다</td>\n",
              "      <td>흔들리는너의눈동자, 걱정마엄마여기있다</td>\n",
              "      <td></td>\n",
              "      <td>0</td>\n",
              "    </tr>\n",
              "  </tbody>\n",
              "</table>\n",
              "</div>"
            ],
            "text/plain": [
              "    insta_id      post_id  ... location label\n",
              "0  hahajuhye  CEoDHwChqOn  ...              0\n",
              "1  hahajuhye  CEmLj59Brlx  ...              0\n",
              "2  hahajuhye  CEmKotWBtxP  ...              0\n",
              "3  hahajuhye  CEmKcZoB8Zn  ...              0\n",
              "4  hahajuhye  CEmJrSlhAqO  ...              0\n",
              "\n",
              "[5 rows x 6 columns]"
            ]
          },
          "metadata": {
            "tags": []
          },
          "execution_count": 30
        }
      ]
    },
    {
      "cell_type": "code",
      "metadata": {
        "id": "LO0bFjMO35bp",
        "colab_type": "code",
        "colab": {
          "base_uri": "https://localhost:8080/",
          "height": 34
        },
        "outputId": "aef29107-0dd0-4c32-9670-d9514b9d6737"
      },
      "source": [
        "# 라벨을 여러개 들고 있는 유저 제거\n",
        "intersec=set()\n",
        "for x in combinations([0, 1, 2, 3], 2):\n",
        "    intersec=intersec.union(set(total_age[total_age[\"label\"]==x[0]][\"insta_id\"]).intersection(set(total_age[total_age[\"label\"]==x[1]][\"insta_id\"])))\n",
        "intesrsec_id = list(intersec)\n",
        "\n",
        "len(intesrsec_id)"
      ],
      "execution_count": 31,
      "outputs": [
        {
          "output_type": "execute_result",
          "data": {
            "text/plain": [
              "22"
            ]
          },
          "metadata": {
            "tags": []
          },
          "execution_count": 31
        }
      ]
    },
    {
      "cell_type": "code",
      "metadata": {
        "id": "h6yssasn4Bl2",
        "colab_type": "code",
        "colab": {
          "base_uri": "https://localhost:8080/",
          "height": 34
        },
        "outputId": "e1bfa718-fc17-4f31-bed8-026a72c7cd68"
      },
      "source": [
        "for user_id in intesrsec_id:\n",
        "    total_age = total_age[total_age['insta_id'] != user_id]\n",
        "\n",
        "len(total_age)"
      ],
      "execution_count": 32,
      "outputs": [
        {
          "output_type": "execute_result",
          "data": {
            "text/plain": [
              "1365756"
            ]
          },
          "metadata": {
            "tags": []
          },
          "execution_count": 32
        }
      ]
    },
    {
      "cell_type": "code",
      "metadata": {
        "id": "1yWwLOxqwQJH",
        "colab_type": "code",
        "colab": {
          "base_uri": "https://localhost:8080/",
          "height": 34
        },
        "outputId": "ad620b09-dcbe-4073-bdab-8de7ebd35b96"
      },
      "source": [
        "dataset_age = total_age[['insta_id', 'content', 'label']]\n",
        "dataset_age = dataset_age.dropna()\n",
        "len(dataset_age)"
      ],
      "execution_count": 33,
      "outputs": [
        {
          "output_type": "execute_result",
          "data": {
            "text/plain": [
              "1337599"
            ]
          },
          "metadata": {
            "tags": []
          },
          "execution_count": 33
        }
      ]
    },
    {
      "cell_type": "markdown",
      "metadata": {
        "id": "2yrsaFMSwpqz",
        "colab_type": "text"
      },
      "source": [
        "## **성별 데이터 전처리**"
      ]
    },
    {
      "cell_type": "code",
      "metadata": {
        "id": "MnLREWC0wPLJ",
        "colab_type": "code",
        "colab": {
          "base_uri": "https://localhost:8080/",
          "height": 34
        },
        "outputId": "992c9e52-237a-4cac-fa1a-bb7138bbf909"
      },
      "source": [
        "# 성별 기준 데이터셋\n",
        "total_gen = pd.concat([male_df, female_df])\n",
        "len(total_gen)"
      ],
      "execution_count": 34,
      "outputs": [
        {
          "output_type": "execute_result",
          "data": {
            "text/plain": [
              "197906"
            ]
          },
          "metadata": {
            "tags": []
          },
          "execution_count": 34
        }
      ]
    },
    {
      "cell_type": "code",
      "metadata": {
        "id": "WDVvOdgyv3pQ",
        "colab_type": "code",
        "colab": {
          "base_uri": "https://localhost:8080/",
          "height": 34
        },
        "outputId": "2c4dde73-c775-4948-fb12-940a1a96cae1"
      },
      "source": [
        "# 중복 포스트 아이디 제거(포스트 아이디는 고유 키라는 가정)\n",
        "total_gen = total_gen.drop_duplicates(['post_id'])\n",
        "total_gen = total_gen.reset_index()\n",
        "total_gen = total_gen.drop(['index'], axis=1)\n",
        "len(total_gen)"
      ],
      "execution_count": 35,
      "outputs": [
        {
          "output_type": "execute_result",
          "data": {
            "text/plain": [
              "197084"
            ]
          },
          "metadata": {
            "tags": []
          },
          "execution_count": 35
        }
      ]
    },
    {
      "cell_type": "code",
      "metadata": {
        "id": "mIOht8nFwX5m",
        "colab_type": "code",
        "colab": {
          "base_uri": "https://localhost:8080/",
          "height": 246
        },
        "outputId": "67539d06-9b92-422f-f54f-6b3762bbb505"
      },
      "source": [
        "total_gen = total_gen.fillna(\"\")\n",
        "total_gen.head()"
      ],
      "execution_count": 36,
      "outputs": [
        {
          "output_type": "execute_result",
          "data": {
            "text/html": [
              "<div>\n",
              "<style scoped>\n",
              "    .dataframe tbody tr th:only-of-type {\n",
              "        vertical-align: middle;\n",
              "    }\n",
              "\n",
              "    .dataframe tbody tr th {\n",
              "        vertical-align: top;\n",
              "    }\n",
              "\n",
              "    .dataframe thead th {\n",
              "        text-align: right;\n",
              "    }\n",
              "</style>\n",
              "<table border=\"1\" class=\"dataframe\">\n",
              "  <thead>\n",
              "    <tr style=\"text-align: right;\">\n",
              "      <th></th>\n",
              "      <th>insta_id</th>\n",
              "      <th>post_id</th>\n",
              "      <th>content</th>\n",
              "      <th>hashtag</th>\n",
              "      <th>location</th>\n",
              "      <th>label</th>\n",
              "    </tr>\n",
              "  </thead>\n",
              "  <tbody>\n",
              "    <tr>\n",
              "      <th>0</th>\n",
              "      <td>seo_preme</td>\n",
              "      <td>CCLbdJ5D5TZ</td>\n",
              "      <td>김밥집🍙🍲</td>\n",
              "      <td></td>\n",
              "      <td>청담동마녀김밥대봉점</td>\n",
              "      <td>0</td>\n",
              "    </tr>\n",
              "    <tr>\n",
              "      <th>1</th>\n",
              "      <td>seo_preme</td>\n",
              "      <td>CCE_MXkjssm</td>\n",
              "      <td>이모 잘 입을게🙌\\n@d_nuum</td>\n",
              "      <td></td>\n",
              "      <td></td>\n",
              "      <td>0</td>\n",
              "    </tr>\n",
              "    <tr>\n",
              "      <th>2</th>\n",
              "      <td>seo_preme</td>\n",
              "      <td>CBuaodoDh_N</td>\n",
              "      <td>짧은머리 3일차\\n아직도 어색\\n#부적응 #더움 #목은시원하네</td>\n",
              "      <td>부적응, 더움, 목은시원하네</td>\n",
              "      <td></td>\n",
              "      <td>0</td>\n",
              "    </tr>\n",
              "    <tr>\n",
              "      <th>3</th>\n",
              "      <td>seo_preme</td>\n",
              "      <td>CBqLu6rDkOv</td>\n",
              "      <td>생에 처음이자 마지막이 될 수도 있는\\n장발 생활을 정리함\\n#2년 #장발 #안녕</td>\n",
              "      <td>2년, 장발, 안녕</td>\n",
              "      <td></td>\n",
              "      <td>0</td>\n",
              "    </tr>\n",
              "    <tr>\n",
              "      <th>4</th>\n",
              "      <td>seo_preme</td>\n",
              "      <td>CBHjkhnjwzc</td>\n",
              "      <td>알타리 귀여움</td>\n",
              "      <td></td>\n",
              "      <td></td>\n",
              "      <td>0</td>\n",
              "    </tr>\n",
              "  </tbody>\n",
              "</table>\n",
              "</div>"
            ],
            "text/plain": [
              "    insta_id      post_id  ...    location label\n",
              "0  seo_preme  CCLbdJ5D5TZ  ...  청담동마녀김밥대봉점     0\n",
              "1  seo_preme  CCE_MXkjssm  ...                 0\n",
              "2  seo_preme  CBuaodoDh_N  ...                 0\n",
              "3  seo_preme  CBqLu6rDkOv  ...                 0\n",
              "4  seo_preme  CBHjkhnjwzc  ...                 0\n",
              "\n",
              "[5 rows x 6 columns]"
            ]
          },
          "metadata": {
            "tags": []
          },
          "execution_count": 36
        }
      ]
    },
    {
      "cell_type": "code",
      "metadata": {
        "id": "ykdHFEwgwbZY",
        "colab_type": "code",
        "colab": {
          "base_uri": "https://localhost:8080/",
          "height": 195
        },
        "outputId": "2eb7d97d-508d-443a-c63b-33abde28d659"
      },
      "source": [
        "total_gen['content'] = total_gen.content.apply(lambda x: x.replace('.\\n', '').replace('\\\\t', '').replace('\\n', ' '))\n",
        "total_gen['content'] = total_gen.loc[total_gen['content'].apply(lambda x:len(x)) >= 5, \"content\"]\n",
        "total_gen.head()"
      ],
      "execution_count": 37,
      "outputs": [
        {
          "output_type": "execute_result",
          "data": {
            "text/html": [
              "<div>\n",
              "<style scoped>\n",
              "    .dataframe tbody tr th:only-of-type {\n",
              "        vertical-align: middle;\n",
              "    }\n",
              "\n",
              "    .dataframe tbody tr th {\n",
              "        vertical-align: top;\n",
              "    }\n",
              "\n",
              "    .dataframe thead th {\n",
              "        text-align: right;\n",
              "    }\n",
              "</style>\n",
              "<table border=\"1\" class=\"dataframe\">\n",
              "  <thead>\n",
              "    <tr style=\"text-align: right;\">\n",
              "      <th></th>\n",
              "      <th>insta_id</th>\n",
              "      <th>post_id</th>\n",
              "      <th>content</th>\n",
              "      <th>hashtag</th>\n",
              "      <th>location</th>\n",
              "      <th>label</th>\n",
              "    </tr>\n",
              "  </thead>\n",
              "  <tbody>\n",
              "    <tr>\n",
              "      <th>0</th>\n",
              "      <td>seo_preme</td>\n",
              "      <td>CCLbdJ5D5TZ</td>\n",
              "      <td>김밥집🍙🍲</td>\n",
              "      <td></td>\n",
              "      <td>청담동마녀김밥대봉점</td>\n",
              "      <td>0</td>\n",
              "    </tr>\n",
              "    <tr>\n",
              "      <th>1</th>\n",
              "      <td>seo_preme</td>\n",
              "      <td>CCE_MXkjssm</td>\n",
              "      <td>이모 잘 입을게🙌 @d_nuum</td>\n",
              "      <td></td>\n",
              "      <td></td>\n",
              "      <td>0</td>\n",
              "    </tr>\n",
              "    <tr>\n",
              "      <th>2</th>\n",
              "      <td>seo_preme</td>\n",
              "      <td>CBuaodoDh_N</td>\n",
              "      <td>짧은머리 3일차 아직도 어색 #부적응 #더움 #목은시원하네</td>\n",
              "      <td>부적응, 더움, 목은시원하네</td>\n",
              "      <td></td>\n",
              "      <td>0</td>\n",
              "    </tr>\n",
              "    <tr>\n",
              "      <th>3</th>\n",
              "      <td>seo_preme</td>\n",
              "      <td>CBqLu6rDkOv</td>\n",
              "      <td>생에 처음이자 마지막이 될 수도 있는 장발 생활을 정리함 #2년 #장발 #안녕</td>\n",
              "      <td>2년, 장발, 안녕</td>\n",
              "      <td></td>\n",
              "      <td>0</td>\n",
              "    </tr>\n",
              "    <tr>\n",
              "      <th>4</th>\n",
              "      <td>seo_preme</td>\n",
              "      <td>CBHjkhnjwzc</td>\n",
              "      <td>알타리 귀여움</td>\n",
              "      <td></td>\n",
              "      <td></td>\n",
              "      <td>0</td>\n",
              "    </tr>\n",
              "  </tbody>\n",
              "</table>\n",
              "</div>"
            ],
            "text/plain": [
              "    insta_id      post_id  ...    location label\n",
              "0  seo_preme  CCLbdJ5D5TZ  ...  청담동마녀김밥대봉점     0\n",
              "1  seo_preme  CCE_MXkjssm  ...                 0\n",
              "2  seo_preme  CBuaodoDh_N  ...                 0\n",
              "3  seo_preme  CBqLu6rDkOv  ...                 0\n",
              "4  seo_preme  CBHjkhnjwzc  ...                 0\n",
              "\n",
              "[5 rows x 6 columns]"
            ]
          },
          "metadata": {
            "tags": []
          },
          "execution_count": 37
        }
      ]
    },
    {
      "cell_type": "code",
      "metadata": {
        "id": "WIjeqRcdwdVd",
        "colab_type": "code",
        "colab": {
          "base_uri": "https://localhost:8080/",
          "height": 34
        },
        "outputId": "dd823fdb-20bc-49a6-95d9-cbc45dcfc329"
      },
      "source": [
        "# 라벨을 여러개 들고 있는 유저 제거\n",
        "intersec=set()\n",
        "for x in combinations([0, 1, 2, 3], 2):\n",
        "    intersec=intersec.union(set(total_gen[total_gen[\"label\"]==x[0]][\"insta_id\"]).intersection(set(total_gen[total_gen[\"label\"]==x[1]][\"insta_id\"])))\n",
        "intesrsec_id = list(intersec)\n",
        "\n",
        "len(intesrsec_id)"
      ],
      "execution_count": 38,
      "outputs": [
        {
          "output_type": "execute_result",
          "data": {
            "text/plain": [
              "3"
            ]
          },
          "metadata": {
            "tags": []
          },
          "execution_count": 38
        }
      ]
    },
    {
      "cell_type": "code",
      "metadata": {
        "id": "vn-QQH3DwfFh",
        "colab_type": "code",
        "colab": {
          "base_uri": "https://localhost:8080/",
          "height": 34
        },
        "outputId": "3e72a7fc-9dca-43ea-debc-4e3037d0a45b"
      },
      "source": [
        "for user_id in intesrsec_id:\n",
        "    total_gen = total_gen[total_gen['insta_id'] != user_id]\n",
        "\n",
        "len(total_gen)"
      ],
      "execution_count": 39,
      "outputs": [
        {
          "output_type": "execute_result",
          "data": {
            "text/plain": [
              "194215"
            ]
          },
          "metadata": {
            "tags": []
          },
          "execution_count": 39
        }
      ]
    },
    {
      "cell_type": "code",
      "metadata": {
        "id": "51p5pW1JwteH",
        "colab_type": "code",
        "colab": {
          "base_uri": "https://localhost:8080/",
          "height": 34
        },
        "outputId": "83e37086-74ba-45d0-d481-9e695b533217"
      },
      "source": [
        "dataset_gen = total_gen[['insta_id', 'content', 'label']]\n",
        "dataset_gen = dataset_gen.dropna()\n",
        "len(dataset_gen)"
      ],
      "execution_count": 40,
      "outputs": [
        {
          "output_type": "execute_result",
          "data": {
            "text/plain": [
              "186457"
            ]
          },
          "metadata": {
            "tags": []
          },
          "execution_count": 40
        }
      ]
    },
    {
      "cell_type": "markdown",
      "metadata": {
        "id": "xqmeA5rivyHe",
        "colab_type": "text"
      },
      "source": [
        "# **데이터 시각화**"
      ]
    },
    {
      "cell_type": "markdown",
      "metadata": {
        "id": "Au_a139bxSGt",
        "colab_type": "text"
      },
      "source": [
        "## **나이별 데이터 시각화**"
      ]
    },
    {
      "cell_type": "code",
      "metadata": {
        "id": "ov5xDDcZVos3",
        "colab_type": "code",
        "colab": {
          "base_uri": "https://localhost:8080/",
          "height": 368
        },
        "outputId": "95d70818-883a-4b46-ff45-11a87a32adaf"
      },
      "source": [
        "# 각 나이별 데이터의 문자 길이\n",
        "dataset_length = dataset_age['content'].apply(len)\n",
        "\n",
        "# 인스타 글의 길이 시각화\n",
        "plt.figure(figsize=(12,5))\n",
        "# 히스토그램 이용\n",
        "plt.hist(dataset_length, bins=200, alpha=0.5, color='r', label='word')\n",
        "plt.yscale('log', nonposy='clip')\n",
        "plt.title('Log-Histogram of Length of Age Content')\n",
        "plt.xlabel('Length of Age Content')\n",
        "plt.ylabel('Number of Age Content')"
      ],
      "execution_count": 41,
      "outputs": [
        {
          "output_type": "execute_result",
          "data": {
            "text/plain": [
              "Text(0, 0.5, 'Number of Age Content')"
            ]
          },
          "metadata": {
            "tags": []
          },
          "execution_count": 41
        },
        {
          "output_type": "display_data",
          "data": {
            "image/png": "[encoded data removed]",
            "text/plain": [
              "<Figure size 864x360 with 1 Axes>"
            ]
          },
          "metadata": {
            "tags": [],
            "needs_background": "light"
          }
        }
      ]
    },
    {
      "cell_type": "code",
      "metadata": {
        "id": "-co3kbSfVz67",
        "colab_type": "code",
        "colab": {
          "base_uri": "https://localhost:8080/",
          "height": 374
        },
        "outputId": "ceb4131b-b047-4d77-f440-5c7047fd884e"
      },
      "source": [
        "# 각 글당 단어의 개수\n",
        "dataset_word_counts = dataset_age['content'].apply(lambda x:len(x.split(' ')))\n",
        "\n",
        "# 단어의 개수 시각화\n",
        "plt.figure(figsize=(10, 5))\n",
        "plt.hist(dataset_word_counts, bins=50, facecolor='r', label='train')\n",
        "plt.title('Log-Histogram of Word Count in Age Content', fontsize=15)\n",
        "plt.yscale('log', nonposy='clip')\n",
        "plt.legend()\n",
        "plt.xlabel('Number of Words', fontsize=15)\n",
        "plt.ylabel('Number of Age Content', fontsize=15)"
      ],
      "execution_count": 42,
      "outputs": [
        {
          "output_type": "execute_result",
          "data": {
            "text/plain": [
              "Text(0, 0.5, 'Number of Age Content')"
            ]
          },
          "metadata": {
            "tags": []
          },
          "execution_count": 42
        },
        {
          "output_type": "display_data",
          "data": {
            "image/png": "[encoded data removed]",
            "text/plain": [
              "<Figure size 720x360 with 1 Axes>"
            ]
          },
          "metadata": {
            "tags": [],
            "needs_background": "light"
          }
        }
      ]
    },
    {
      "cell_type": "code",
      "metadata": {
        "id": "N1QOTKjlWDYs",
        "colab_type": "code",
        "colab": {
          "base_uri": "https://localhost:8080/",
          "height": 320
        },
        "outputId": "e0191649-3ff3-472a-bfcb-5fcade18a68f"
      },
      "source": [
        "# 박스 플롯을 이용해 문장 내 단어수 확인\n",
        "plt.figure(figsize=(12,5))\n",
        "plt.boxplot(dataset_length, labels=['token'], showmeans=True)\n",
        "\n",
        "plt.show()"
      ],
      "execution_count": 43,
      "outputs": [
        {
          "output_type": "display_data",
          "data": {
            "image/png": "[encoded data removed]",
            "text/plain": [
              "<Figure size 864x360 with 1 Axes>"
            ]
          },
          "metadata": {
            "tags": [],
            "needs_background": "light"
          }
        }
      ]
    },
    {
      "cell_type": "markdown",
      "metadata": {
        "id": "pUo_Q1lzxqfQ",
        "colab_type": "text"
      },
      "source": [
        "## **성별 데이터 시각화**"
      ]
    },
    {
      "cell_type": "code",
      "metadata": {
        "id": "KDJ2lFiBxp4L",
        "colab_type": "code",
        "colab": {
          "base_uri": "https://localhost:8080/",
          "height": 368
        },
        "outputId": "470b0e7c-1ea2-48a2-e3d0-c577ee2658ff"
      },
      "source": [
        "# 각 나이별 데이터의 문자 길이\n",
        "dataset_length = dataset_gen['content'].apply(len)\n",
        "\n",
        "# 인스타 글의 길이 시각화\n",
        "plt.figure(figsize=(12,5))\n",
        "# 히스토그램 이용\n",
        "plt.hist(dataset_length, bins=200, alpha=0.5, color='r', label='word')\n",
        "plt.yscale('log', nonposy='clip')\n",
        "plt.title('Log-Histogram of Length of Gender Content')\n",
        "plt.xlabel('Length of Gender Content')\n",
        "plt.ylabel('Number of Gender Content')"
      ],
      "execution_count": 44,
      "outputs": [
        {
          "output_type": "execute_result",
          "data": {
            "text/plain": [
              "Text(0, 0.5, 'Number of Gender Content')"
            ]
          },
          "metadata": {
            "tags": []
          },
          "execution_count": 44
        },
        {
          "output_type": "display_data",
          "data": {
            "image/png": "[encoded data removed]",
            "text/plain": [
              "<Figure size 864x360 with 1 Axes>"
            ]
          },
          "metadata": {
            "tags": [],
            "needs_background": "light"
          }
        }
      ]
    },
    {
      "cell_type": "code",
      "metadata": {
        "id": "xVvPuZs5xt0P",
        "colab_type": "code",
        "colab": {
          "base_uri": "https://localhost:8080/",
          "height": 374
        },
        "outputId": "1e920e86-eadd-4494-f9a3-a0af8623b957"
      },
      "source": [
        "# 각 글당 단어의 개수\n",
        "dataset_word_counts = dataset_gen['content'].apply(lambda x:len(x.split(' ')))\n",
        "\n",
        "# 단어의 개수 시각화\n",
        "plt.figure(figsize=(10, 5))\n",
        "plt.hist(dataset_word_counts, bins=50, facecolor='r', label='train')\n",
        "plt.title('Log-Histogram of Word Count in Gender Content', fontsize=15)\n",
        "plt.yscale('log', nonposy='clip')\n",
        "plt.legend()\n",
        "plt.xlabel('Number of Words', fontsize=15)\n",
        "plt.ylabel('Number of Gender Content', fontsize=15)"
      ],
      "execution_count": 45,
      "outputs": [
        {
          "output_type": "execute_result",
          "data": {
            "text/plain": [
              "Text(0, 0.5, 'Number of Gender Content')"
            ]
          },
          "metadata": {
            "tags": []
          },
          "execution_count": 45
        },
        {
          "output_type": "display_data",
          "data": {
            "image/png": "[encoded data removed]",
            "text/plain": [
              "<Figure size 720x360 with 1 Axes>"
            ]
          },
          "metadata": {
            "tags": [],
            "needs_background": "light"
          }
        }
      ]
    },
    {
      "cell_type": "code",
      "metadata": {
        "id": "uE4WrL6dxurS",
        "colab_type": "code",
        "colab": {
          "base_uri": "https://localhost:8080/",
          "height": 320
        },
        "outputId": "1e633076-0a69-469a-ffee-cf7c13aec079"
      },
      "source": [
        "# 박스 플롯을 이용해 문장 내 단어수 확인\n",
        "plt.figure(figsize=(12,5))\n",
        "plt.boxplot(dataset_length, labels=['token'], showmeans=True)\n",
        "\n",
        "plt.show()"
      ],
      "execution_count": 46,
      "outputs": [
        {
          "output_type": "display_data",
          "data": {
            "image/png": "[encoded data removed]",
            "text/plain": [
              "<Figure size 864x360 with 1 Axes>"
            ]
          },
          "metadata": {
            "tags": [],
            "needs_background": "light"
          }
        }
      ]
    },
    {
      "cell_type": "markdown",
      "metadata": {
        "id": "jDOuDiAayFhi",
        "colab_type": "text"
      },
      "source": [
        "# **전처리 데이터 저장**"
      ]
    },
    {
      "cell_type": "markdown",
      "metadata": {
        "id": "Sah1-DM-yOLe",
        "colab_type": "text"
      },
      "source": [
        "## **나이별 데이터 저장**"
      ]
    },
    {
      "cell_type": "code",
      "metadata": {
        "id": "OqF6Zh4ikHPe",
        "colab_type": "code",
        "colab": {
          "base_uri": "https://localhost:8080/",
          "height": 34
        },
        "outputId": "3477784c-7864-4b9f-a57a-70af9d274015"
      },
      "source": [
        "# 학습, 테스트 데이터 분리\n",
        "train_data = dataset_age.sample(frac=0.8, random_state=2020)\n",
        "test_data = dataset_age.drop(train_data.index)\n",
        "len(train_data), len(test_data)"
      ],
      "execution_count": 47,
      "outputs": [
        {
          "output_type": "execute_result",
          "data": {
            "text/plain": [
              "(1070079, 267520)"
            ]
          },
          "metadata": {
            "tags": []
          },
          "execution_count": 47
        }
      ]
    },
    {
      "cell_type": "code",
      "metadata": {
        "id": "4afq2YOoDc4Y",
        "colab_type": "code",
        "colab": {}
      },
      "source": [
        "train_data.to_csv('/content/drive/My Drive/머신러닝/팀 프로젝트/insta_profiling1/Data_Preprocessing/Data_Set/train_data_age.csv')\n",
        "test_data.to_csv('/content/drive/My Drive/머신러닝/팀 프로젝트/insta_profiling1/Data_Preprocessing/Data_Set/test_data_age.csv')"
      ],
      "execution_count": 50,
      "outputs": []
    },
    {
      "cell_type": "markdown",
      "metadata": {
        "id": "a_bzJIoWyYQL",
        "colab_type": "text"
      },
      "source": [
        "## **성별 데이터 저장**"
      ]
    },
    {
      "cell_type": "code",
      "metadata": {
        "id": "_8Kz1d3uyNJe",
        "colab_type": "code",
        "colab": {
          "base_uri": "https://localhost:8080/",
          "height": 34
        },
        "outputId": "f6108f09-c0f1-406f-e9fb-5e32b2310840"
      },
      "source": [
        "# 학습, 테스트 데이터 분리\n",
        "train_data = dataset_gen.sample(frac=0.8, random_state=2020)\n",
        "test_data = dataset_gen.drop(train_data.index)\n",
        "len(train_data), len(test_data)"
      ],
      "execution_count": 53,
      "outputs": [
        {
          "output_type": "execute_result",
          "data": {
            "text/plain": [
              "(149166, 37291)"
            ]
          },
          "metadata": {
            "tags": []
          },
          "execution_count": 53
        }
      ]
    },
    {
      "cell_type": "code",
      "metadata": {
        "id": "IxLout-qyNqP",
        "colab_type": "code",
        "colab": {}
      },
      "source": [
        "train_data.to_csv('/content/drive/My Drive/머신러닝/팀 프로젝트/insta_profiling1/Data_Preprocessing/Data_Set/train_data_gen.csv')\n",
        "test_data.to_csv('/content/drive/My Drive/머신러닝/팀 프로젝트/insta_profiling1/Data_Preprocessing/Data_Set/test_data_gen.csv')"
      ],
      "execution_count": 54,
      "outputs": []
    }
  ]
}