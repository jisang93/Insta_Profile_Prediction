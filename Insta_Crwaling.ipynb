{
  "nbformat": 4,
  "nbformat_minor": 0,
  "metadata": {
    "colab": {
      "name": "Insta_Crwaling.ipynb",
      "provenance": [],
      "authorship_tag": "ABX9TyNhZ8A1P56nVjahIgs3hoe+",
      "include_colab_link": true
    },
    "kernelspec": {
      "name": "python3",
      "display_name": "Python 3"
    }
  },
  "cells": [
    {
      "cell_type": "markdown",
      "metadata": {
        "id": "view-in-github",
        "colab_type": "text"
      },
      "source": [
        "<a href=\"https://colab.research.google.com/github/jisang93/SNS_Project/blob/master/Insta_Crwaling.ipynb\" target=\"_parent\"><img src=\"https://colab.research.google.com/assets/colab-badge.svg\" alt=\"Open In Colab\"/></a>"
      ]
    },
    {
      "cell_type": "code",
      "metadata": {
        "id": "H5yPVxceT1JS",
        "colab_type": "code",
        "colab": {}
      },
      "source": [
        "import requests, re, json, urllib, datetime\n",
        "import pandas as pd\n",
        "from bs4 import BeautifulSoup\n",
        "\n",
        "#search = '%EC%9D%B4%EC%8A%B9%EA%B8%B0'\n",
        "#def insta(query):\n",
        "#search = urllib.parse.quote(query)\n",
        "\n",
        "# 헤더 저장\n",
        "headers = {\n",
        "            'cookie' : 'ig_did=1DB997A1-85F5-410B-A44B-DB3A31DE9BF2; mid=XxLtBgALAAHy9DlenU_IjVp8c-vI; csrftoken=w8fk3ZvDCg3GeMsgOGjj4c7C1J1CDDEv; ds_user_id=2164165712; sessionid=2164165712%3A0i2iNaTHNVLjRS%3A25; shbid=980; shbts=1597821443.3613222; rur=VLL; urlgen=\"{\\\"222.107.238.125\\\": 4766}:1k90Xa:Xh5aOhIn5p2sNhAMjIh4OesdfJk\"',\n",
        "            'user-agent' : 'Mozilla/5.0 (Windows NT 10.0; Win64; x64) AppleWebKit/537.36 (KHTML, like Gecko) Chrome/84.0.4147.125 Safari/537.36',\n",
        "            }\n",
        "# 해시 태그 설정\n",
        "tags = \"20대\"\n",
        "\n",
        "res = requests.get('https://www.instagram.com/explore/tags/{}/?__a=1'.format(tags), headers = headers)\n",
        "res.encoding = 'utf-8'\n",
        "js = json.loads(res.text)"
      ],
      "execution_count": 42,
      "outputs": []
    },
    {
      "cell_type": "code",
      "metadata": {
        "id": "H9ILZj6OoRBX",
        "colab_type": "code",
        "colab": {
          "base_uri": "https://localhost:8080/",
          "height": 105
        },
        "outputId": "8e3ef538-0999-49cc-fe1c-2d5b08ded1d6"
      },
      "source": [
        "user_id = []\n",
        "for i in js['graphql']['hashtag']['edge_hashtag_to_media']['edges']:\n",
        "    # user 이름으로 접속할 경우 게시글이 다른 게시물로 넘어감\n",
        "    \n",
        "    user_id.append('https://www.instagram.com/graphql/query/?query_hash=bfa387b2992c3a52dcbe447467b4b771&variables=%7B%22id%22%3A%{}%22%2C%22first%22%3A12%7D'.format(i['node']['owner']['id']))\n",
        "    \n",
        "user_id[:5]"
      ],
      "execution_count": 46,
      "outputs": [
        {
          "output_type": "execute_result",
          "data": {
            "text/plain": [
              "['https://www.instagram.com/graphql/query/?query_hash=bfa387b2992c3a52dcbe447467b4b771&variables=%7B%22id%22%3A%21685152986%22%2C%22first%22%3A12%7D',\n",
              " 'https://www.instagram.com/graphql/query/?query_hash=bfa387b2992c3a52dcbe447467b4b771&variables=%7B%22id%22%3A%4847179109%22%2C%22first%22%3A12%7D',\n",
              " 'https://www.instagram.com/graphql/query/?query_hash=bfa387b2992c3a52dcbe447467b4b771&variables=%7B%22id%22%3A%3618337678%22%2C%22first%22%3A12%7D',\n",
              " 'https://www.instagram.com/graphql/query/?query_hash=bfa387b2992c3a52dcbe447467b4b771&variables=%7B%22id%22%3A%2502885322%22%2C%22first%22%3A12%7D',\n",
              " 'https://www.instagram.com/graphql/query/?query_hash=bfa387b2992c3a52dcbe447467b4b771&variables=%7B%22id%22%3A%1790527918%22%2C%22first%22%3A12%7D']"
            ]
          },
          "metadata": {
            "tags": []
          },
          "execution_count": 46
        }
      ]
    },
    {
      "cell_type": "code",
      "metadata": {
        "id": "IWx_gxU4UADv",
        "colab_type": "code",
        "colab": {
          "base_uri": "https://localhost:8080/",
          "height": 1000
        },
        "outputId": "7236458d-e390-4c93-a73f-aef4546837d1"
      },
      "source": [
        "user_nm = []\n",
        "for i in short_code:\n",
        "    res = requests.get(i, headers=headers)\n",
        "    res.encoding = 'utf-8'\n",
        "    print(res)\n",
        "    js = json.loads(res.text)\n",
        "js"
      ],
      "execution_count": 47,
      "outputs": [
        {
          "output_type": "stream",
          "text": [
            "<Response [400]>\n",
            "<Response [400]>\n",
            "<Response [400]>\n",
            "<Response [400]>\n",
            "<Response [400]>\n",
            "<Response [200]>\n",
            "<Response [400]>\n",
            "<Response [400]>\n",
            "<Response [400]>\n",
            "<Response [400]>\n",
            "<Response [400]>\n",
            "<Response [400]>\n",
            "<Response [400]>\n",
            "<Response [400]>\n",
            "<Response [400]>\n",
            "<Response [400]>\n",
            "<Response [400]>\n",
            "<Response [400]>\n",
            "<Response [400]>\n",
            "<Response [400]>\n",
            "<Response [400]>\n",
            "<Response [400]>\n",
            "<Response [400]>\n",
            "<Response [400]>\n",
            "<Response [400]>\n",
            "<Response [400]>\n",
            "<Response [400]>\n",
            "<Response [400]>\n",
            "<Response [400]>\n",
            "<Response [400]>\n",
            "<Response [400]>\n",
            "<Response [400]>\n",
            "<Response [400]>\n",
            "<Response [400]>\n",
            "<Response [400]>\n",
            "<Response [400]>\n",
            "<Response [400]>\n",
            "<Response [400]>\n",
            "<Response [400]>\n",
            "<Response [400]>\n",
            "<Response [400]>\n",
            "<Response [400]>\n",
            "<Response [400]>\n",
            "<Response [400]>\n",
            "<Response [400]>\n",
            "<Response [400]>\n",
            "<Response [400]>\n",
            "<Response [400]>\n",
            "<Response [400]>\n",
            "<Response [400]>\n",
            "<Response [400]>\n",
            "<Response [400]>\n",
            "<Response [400]>\n",
            "<Response [400]>\n",
            "<Response [400]>\n",
            "<Response [400]>\n",
            "<Response [400]>\n",
            "<Response [400]>\n",
            "<Response [400]>\n",
            "<Response [400]>\n",
            "<Response [400]>\n",
            "<Response [400]>\n",
            "<Response [400]>\n",
            "<Response [400]>\n",
            "<Response [400]>\n",
            "<Response [400]>\n",
            "<Response [400]>\n",
            "<Response [400]>\n",
            "<Response [400]>\n"
          ],
          "name": "stdout"
        },
        {
          "output_type": "execute_result",
          "data": {
            "text/plain": [
              "{'message': 'Variables are invalid JSON.', 'status': 'fail'}"
            ]
          },
          "metadata": {
            "tags": []
          },
          "execution_count": 47
        }
      ]
    },
    {
      "cell_type": "code",
      "metadata": {
        "id": "yM4guSTJgM6J",
        "colab_type": "code",
        "colab": {
          "base_uri": "https://localhost:8080/",
          "height": 34
        },
        "outputId": "f4913089-28c5-489c-a9dc-f2d5e6b9e749"
      },
      "source": [
        "url = 'https://www.instagram.com/ji__won124/'\n",
        "res = requests.post(url, headers=headers)\n",
        "res"
      ],
      "execution_count": 26,
      "outputs": [
        {
          "output_type": "execute_result",
          "data": {
            "text/plain": [
              "<Response [405]>"
            ]
          },
          "metadata": {
            "tags": []
          },
          "execution_count": 26
        }
      ]
    },
    {
      "cell_type": "code",
      "metadata": {
        "id": "QmiQikitna6N",
        "colab_type": "code",
        "colab": {}
      },
      "source": [
        ""
      ],
      "execution_count": null,
      "outputs": []
    }
  ]
}